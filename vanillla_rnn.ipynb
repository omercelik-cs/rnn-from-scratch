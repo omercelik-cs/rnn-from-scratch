{
  "nbformat": 4,
  "nbformat_minor": 0,
  "metadata": {
    "colab": {
      "name": "vanillla.ipynb",
      "version": "0.3.2",
      "provenance": [],
      "collapsed_sections": []
    },
    "language_info": {
      "codemirror_mode": {
        "name": "ipython",
        "version": 3
      },
      "file_extension": ".py",
      "mimetype": "text/x-python",
      "name": "python",
      "nbconvert_exporter": "python",
      "pygments_lexer": "ipython3",
      "version": "3.6.4"
    },
    "kernelspec": {
      "display_name": "Python 3",
      "language": "python",
      "name": "python3"
    }
  },
  "cells": [
    {
      "metadata": {
        "id": "Lo8ubV-qzRXv",
        "colab_type": "code",
        "colab": {}
      },
      "cell_type": "code",
      "source": [
        "import numpy as np\n",
        "import matplotlib.pyplot as plt\n",
        "# Load the Drive helper and mount\n",
        "from google.colab import drive"
      ],
      "execution_count": 0,
      "outputs": []
    },
    {
      "metadata": {
        "id": "dYtvpfdK0fHE",
        "colab_type": "code",
        "colab": {
          "base_uri": "https://localhost:8080/",
          "height": 51
        },
        "outputId": "44bb9d6a-3208-4fd3-c771-881423e60e55"
      },
      "cell_type": "code",
      "source": [
        "# This will prompt for authorization.\n",
        "drive.mount('/content/drive')"
      ],
      "execution_count": 2,
      "outputs": [
        {
          "output_type": "stream",
          "text": [
            "Drive already mounted at /content/drive; to attempt to forcibly remount, call drive.mount(\"/content/drive\", force_remount=True).\n",
            "'/content/drive/My Drive/speeches.txt'\n"
          ],
          "name": "stdout"
        }
      ]
    },
    {
      "metadata": {
        "id": "LMv_hsKHzRX0",
        "colab_type": "code",
        "colab": {}
      },
      "cell_type": "code",
      "source": [
        "# softmax of a numpy array\n",
        "def softmax(x):\n",
        "    e_x = np.exp(x - np.max(x))\n",
        "    return e_x / e_x.sum(axis=0) "
      ],
      "execution_count": 0,
      "outputs": []
    },
    {
      "metadata": {
        "id": "Spo_wcDxzRX3",
        "colab_type": "code",
        "colab": {}
      },
      "cell_type": "code",
      "source": [
        "# forward pass for one-to-one RNN architecture\n",
        "def forward_pass(X, Y, h_init, parameters):\n",
        "    \n",
        "    # dictionaries to store values at each time step\n",
        "    h = {} # to keep hidden states\n",
        "    x = {} # to keep input states\n",
        "    y = {} # to keep softmax output (array of probs with vocab size)\n",
        "    \n",
        "    # retrieve the model parameters\n",
        "    W_xh,W_hh,W_hy,b_h,b_y = parameters\n",
        "    \n",
        "    # set initial hidden state to start RNN loop\n",
        "    h[-1] = np.copy(h_init) \n",
        "    loss = 0\n",
        "    \n",
        "    # for each character in the input/output\n",
        "    for t in range(len(X)):\n",
        "        \n",
        "        # one hot representation of character t\n",
        "        x[t] = np.zeros((vocab_size,1)) \n",
        "        x[t][X[t]] = 1\n",
        "        \n",
        "        # rnn cell calculations given by formula\n",
        "        h[t] = np.tanh(np.dot(W_hh,h[t-1]) + np.dot(W_xh,x[t]) + b_h)\n",
        "        y[t] = softmax(np.dot(W_hy,h[t]) + b_y)\n",
        "        \n",
        "        # get the softmax probability of output character t\n",
        "        softmax_out = y[t][Y[t],0]\n",
        "        \n",
        "        # update the cross entropy (softmax) loss at each time step\n",
        "        loss += -np.log(softmax_out)\n",
        "        \n",
        "    return loss, y, x, h, h[len(X)-1] # rnn input and hidden states are needed for backward pass\n",
        "    "
      ],
      "execution_count": 0,
      "outputs": []
    },
    {
      "metadata": {
        "id": "UwwGkpiXzRX6",
        "colab_type": "code",
        "colab": {}
      },
      "cell_type": "code",
      "source": [
        "def backward_pass(X, Y, parameters,y,x,h):\n",
        "        \n",
        "    # retrieve model parameters\n",
        "    W_xh,W_hh,W_hy,b_h,b_y = parameters\n",
        "    \n",
        "    # initialize the gradients of same shape with parameters\n",
        "    dW_xh,dW_hh,dW_hy,db_h,db_y = np.zeros(W_xh.shape),np.zeros(W_hh.shape),np.zeros(W_hy.shape),np.zeros(b_h.shape),np.zeros(b_y.shape)\n",
        "    dh_next = np.zeros(h[0].shape)\n",
        "    \n",
        "    # backpropagation for each time step\n",
        "    for t in reversed(range(len(X))):\n",
        "        \n",
        "        # calculate gradients for all parameters \n",
        "        d_y = np.copy(y[t])\n",
        "        d_y[Y[t]] = d_y[Y[t]] - 1\n",
        "        dW_hy += np.dot(d_y,h[t].T)\n",
        "        db_y += d_y\n",
        "        d_h = np.dot(W_hy.T, d_y) + dh_next\n",
        "        d_tanh = (1- h[t]*h[t]) *d_h # derivative of tanh (1-t2)dt\n",
        "        db_h += d_tanh \n",
        "        dW_xh += np.dot(d_tanh, x[t].T)\n",
        "        dW_hh += np.dot(d_tanh, h[t-1].T)\n",
        "        dh_next = np.dot(W_hh.T,d_tanh)\n",
        "        \n",
        "    return (dW_xh,dW_hh,dW_hy,db_h,db_y)"
      ],
      "execution_count": 0,
      "outputs": []
    },
    {
      "metadata": {
        "id": "sss7vMv9zRYA",
        "colab_type": "code",
        "colab": {}
      },
      "cell_type": "code",
      "source": [
        "def SGD(X, Y, h_init, parameters, learning_rate):\n",
        "    \n",
        "    loss, y_preds, x, h, h_init = forward_pass(X,Y,h_init,parameters)\n",
        "    gradients = backward_pass(X,Y,parameters,y_preds,x,h)\n",
        "    #gradients = gradient_clip(gradients)\n",
        "    \n",
        "    new_params = []\n",
        "    for i in range(len(parameters)):\n",
        "        new_params.append(parameters[i] - learning_rate * gradients[i] )\n",
        "    return tuple(new_params), h_init, loss"
      ],
      "execution_count": 0,
      "outputs": []
    },
    {
      "metadata": {
        "id": "jInkLqz3zRYE",
        "colab_type": "code",
        "colab": {}
      },
      "cell_type": "code",
      "source": [
        "def initialize_parameters(num_hiddens,vocab_size):\n",
        "\n",
        "    # weight matrices\n",
        "    W_hx = np.random.randn(num_hiddens, vocab_size) * 0.01\n",
        "    W_hh = np.random.randn(num_hiddens, num_hiddens) * 0.01\n",
        "    W_yh = np.random.randn(vocab_size, num_hiddens) * 0.01\n",
        "    \n",
        "    # biases\n",
        "    b_h = np.zeros((num_hiddens, 1))\n",
        "    b_y = np.zeros((vocab_size, 1))\n",
        "        \n",
        "    return (W_hx,W_hh,W_yh,b_h,b_y)"
      ],
      "execution_count": 0,
      "outputs": []
    },
    {
      "metadata": {
        "id": "P0T29i4wzRYI",
        "colab_type": "code",
        "colab": {}
      },
      "cell_type": "code",
      "source": [
        "def train(data, num_hiddens, vocab_size, batch_size, learning_rate, num_epoch, char_to_index, index_to_char):\n",
        "    \n",
        "    num_iteration = int((len(data)/batch_size) * num_epoch) # total number of iteration\n",
        "    parameters = initialize_parameters(num_hiddens,vocab_size) # get model parameters\n",
        "    h_init = np.zeros((num_hiddens, 1)) # get initial hidden vector\n",
        "    smooth_loss = -np.log(1.0/vocab_size)*batch_size # smooth loss not to see high osscilations (credits: Karpathy vanilla RNN)\n",
        "    \n",
        "    losses = []\n",
        "    cnt = 1\n",
        "    epoch_cnt = 1\n",
        "    for i in range(num_iteration):\n",
        "                \n",
        "        # get batch of training data\n",
        "        X_batch = []\n",
        "        Y_batch = []\n",
        "        for j in range(batch_size):\n",
        "            X_batch.append(char_to_index[data[cnt-1]])\n",
        "            Y_batch.append(char_to_index[data[cnt]])\n",
        "            cnt+=1\n",
        "            \n",
        "        # forward/backward pass and update parameters\n",
        "        parameters, h_init, loss = SGD(X_batch, Y_batch, h_init, parameters, learning_rate)\n",
        "        smooth_loss = smooth_loss * 0.999 + loss * 0.001\n",
        "        losses.append(smooth_loss)\n",
        "            \n",
        "        # epoch is completed print progress and reset counter\n",
        "        if (len(data) - cnt) <= batch_size or (i == 0):\n",
        "            print (\"Epoch:\", epoch_cnt,\"\\tBatch:\", str(cnt-1) + \"/\" + str(len(data)), \"\\tLoss:\", smooth_loss)\n",
        "            cnt = 1\n",
        "            epoch_cnt+=1\n",
        "            \n",
        "    return parameters,h_init,losses"
      ],
      "execution_count": 0,
      "outputs": []
    },
    {
      "metadata": {
        "id": "dM8EEkFrzRYC",
        "colab_type": "code",
        "colab": {}
      },
      "cell_type": "code",
      "source": [
        "def sampling(parameters, h_init, sample_size, index_to_char):\n",
        "    \n",
        "    # retrieve model parameters\n",
        "    W_xh,W_hh,W_hy,b_h,b_y = parameters\n",
        "    \n",
        "    # get the hyper parameters\n",
        "    vocab_size = b_y.shape[0]\n",
        "    num_hiddens = W_hh.shape[1]\n",
        "    \n",
        "    # initialize the sequence and first hidden state\n",
        "    x = np.zeros((vocab_size,1))\n",
        "    #h_init = np.zeros((num_hiddens,1))\n",
        "    # store all sampled indices\n",
        "    indices = []\n",
        "    \n",
        "    for i in range(sample_size):\n",
        "        \n",
        "        # make forward pass\n",
        "        h_init = np.tanh(np.dot(W_hh,h_init) + np.dot(W_xh,x) + b_h)\n",
        "        y = softmax(np.dot(W_hy,h_init) + b_y)\n",
        "        \n",
        "        # get a random index in vocab within the probability distribution of y (ravel())\n",
        "        index = np.random.choice(range(vocab_size), p=y.ravel())\n",
        "        \n",
        "        # add the sampled char into one hot vector\n",
        "        x = np.zeros((vocab_size, 1))\n",
        "        x[index] = 1\n",
        "        \n",
        "        # append chosen index at each iteration\n",
        "        indices.append(index)\n",
        "    \n",
        "    sampled_text = ''\n",
        "    for index in indices:\n",
        "        sampled_text += index_to_char[index]\n",
        "    \n",
        "    return sampled_text"
      ],
      "execution_count": 0,
      "outputs": []
    },
    {
      "metadata": {
        "id": "FQ2PpOc8zRYO",
        "colab_type": "code",
        "colab": {}
      },
      "cell_type": "code",
      "source": [
        "def data_preprocess(file_path):\n",
        "    data = open(file_path, 'r',encoding = 'utf-8').read()\n",
        "    data = data.lower()\n",
        "    data = ''.join([i for i in data if not i.isdigit()])\n",
        "    data = (data.translate({ord(i): None for i in '][&=%)-@\\ufeff;_é$('})) \n",
        "    char_set = list(set(data))\n",
        "    vocab_size = len(char_set)\n",
        "    data_size = len(data)\n",
        "    char_to_index = { ch:i for i,ch in enumerate(char_set) } # to index each char in data\n",
        "    index_to_char = { i:ch for i,ch in enumerate(char_set) } # to print generated char index\n",
        "    \n",
        "    return data, vocab_size, char_to_index,index_to_char"
      ],
      "execution_count": 0,
      "outputs": []
    },
    {
      "metadata": {
        "id": "t05asgvmzRYU",
        "colab_type": "text"
      },
      "cell_type": "markdown",
      "source": [
        "# Trump Speech"
      ]
    },
    {
      "metadata": {
        "id": "tfkRVgWczRYV",
        "colab_type": "code",
        "colab": {}
      },
      "cell_type": "code",
      "source": [
        "data, vocab_size, char_to_index, index_to_char = data_preprocess(\"/content/drive/My Drive/speeches.txt\")"
      ],
      "execution_count": 0,
      "outputs": []
    },
    {
      "metadata": {
        "id": "G9rPg19SzRYX",
        "colab_type": "code",
        "colab": {}
      },
      "cell_type": "code",
      "source": [
        "# hyperparameters (chosen by experiments)\n",
        "num_hiddens = 150\n",
        "batch_size = 100\n",
        "learning_rate = 0.001\n",
        "num_epoch = 12"
      ],
      "execution_count": 0,
      "outputs": []
    },
    {
      "metadata": {
        "id": "yruVZ8v8zRYb",
        "colab_type": "code",
        "colab": {
          "base_uri": "https://localhost:8080/",
          "height": 238
        },
        "outputId": "68866341-6083-4a56-a116-b3f53727309f"
      },
      "cell_type": "code",
      "source": [
        "parameters, h_init, loss_history = train(data,num_hiddens, vocab_size, batch_size, learning_rate, num_epoch, char_to_index, index_to_char)"
      ],
      "execution_count": 13,
      "outputs": [
        {
          "output_type": "stream",
          "text": [
            "Epoch: 1 \tBatch: 100/891479 \tLoss: 376.1199891113728\n",
            "Epoch: 2 \tBatch: 891400/891479 \tLoss: 198.5989692792207\n",
            "Epoch: 3 \tBatch: 891400/891479 \tLoss: 170.3894478995746\n",
            "Epoch: 4 \tBatch: 891400/891479 \tLoss: 157.60121457779493\n",
            "Epoch: 5 \tBatch: 891400/891479 \tLoss: 150.44044000065216\n",
            "Epoch: 6 \tBatch: 891400/891479 \tLoss: 145.9852464188745\n",
            "Epoch: 7 \tBatch: 891400/891479 \tLoss: 142.9700438330822\n",
            "Epoch: 8 \tBatch: 891400/891479 \tLoss: 140.81607290079847\n",
            "Epoch: 9 \tBatch: 891400/891479 \tLoss: 139.1327426461128\n",
            "Epoch: 10 \tBatch: 891400/891479 \tLoss: 137.84397843322512\n",
            "Epoch: 11 \tBatch: 891400/891479 \tLoss: 136.83862173950166\n",
            "Epoch: 12 \tBatch: 891400/891479 \tLoss: 135.84353882700896\n",
            "Epoch: 13 \tBatch: 891400/891479 \tLoss: 134.9228162700672\n"
          ],
          "name": "stdout"
        }
      ]
    },
    {
      "metadata": {
        "id": "vNbMNxERzRYl",
        "colab_type": "code",
        "colab": {
          "base_uri": "https://localhost:8080/",
          "height": 269
        },
        "outputId": "0fc59378-afa1-4382-fe67-57e2a3774935"
      },
      "cell_type": "code",
      "source": [
        "import matplotlib.pyplot as plt\n",
        "plt.plot(loss_history)\n",
        "plt.ylabel('loss')\n",
        "plt.show()"
      ],
      "execution_count": 14,
      "outputs": [
        {
          "output_type": "display_data",
          "data": {
            "image/png": "[encoded data removed]",
            "text/plain": [
              "<Figure size 432x288 with 1 Axes>"
            ]
          },
          "metadata": {
            "tags": []
          }
        }
      ]
    },
    {
      "metadata": {
        "id": "PQ-CyVg6zRYn",
        "colab_type": "code",
        "colab": {
          "base_uri": "https://localhost:8080/",
          "height": 122
        },
        "outputId": "53b46dc6-c307-4f00-8dd8-800904ae2dba"
      },
      "cell_type": "code",
      "source": [
        "print(\"Generated text: \",sampling(parameters, h_init, 1000, index_to_char))"
      ],
      "execution_count": 15,
      "outputs": [
        {
          "output_type": "stream",
          "text": [
            "Generated text:  . we have great for somethrust hape. and i have a creatia.\n",
            "whor time for it would we're go to believe than shoull country. it justll so says write trade teal midgration jobs a fir, jeffs in of the best perestre. so the cwing now isal. not's in a gheap us of very michlies masten on ghist te spote in tomal of it, a trump.\n",
            "\n",
            "or is talk her. our has politics ire pubying richast is. i seen jobly an of the hightate vely tileas is up? they will beaity that coucty ware uffiou.\n",
            "so that to bumppriat? but he negertor it will heve  in it was till them. so she ampisiciate for in indere of how more worod hillary being breatess. i love, with it this idn's a guy we're going he commion'l. it's unangrgoc would son the way.  it want the pence – you would who will be americe – wo'll has been proctive well. she digntt did took intrrear nems. and for a stappedy exaids that won'this bacer chantrips a big eners for the world back that if it's done to mexte' it our the way intay these that country and i don’t t\n"
          ],
          "name": "stdout"
        }
      ]
    },
    {
      "metadata": {
        "id": "gdxzqPgElhAl",
        "colab_type": "text"
      },
      "cell_type": "markdown",
      "source": [
        "# Shakespeare Sonnets"
      ]
    },
    {
      "metadata": {
        "id": "r7WQZpHZlmcr",
        "colab_type": "code",
        "colab": {}
      },
      "cell_type": "code",
      "source": [
        "data, vocab_size, char_to_index, index_to_char = data_preprocess(\"/content/drive/My Drive/sonnets.txt\")"
      ],
      "execution_count": 0,
      "outputs": []
    },
    {
      "metadata": {
        "id": "Lm_qvfXIluFM",
        "colab_type": "code",
        "colab": {}
      },
      "cell_type": "code",
      "source": [
        "# hyperparameters (chosen by experiments)\n",
        "num_hiddens = 75\n",
        "batch_size = 50\n",
        "learning_rate = 0.001\n",
        "num_epoch = 40"
      ],
      "execution_count": 0,
      "outputs": []
    },
    {
      "metadata": {
        "id": "7IWO0I6fl3ly",
        "colab_type": "code",
        "colab": {
          "base_uri": "https://localhost:8080/",
          "height": 714
        },
        "outputId": "b63b989d-59ff-4686-cf01-46db7ed4a6a6"
      },
      "cell_type": "code",
      "source": [
        "parameters, h_init, loss_history = train(data,num_hiddens, vocab_size, batch_size, learning_rate, num_epoch, char_to_index, index_to_char)"
      ],
      "execution_count": 30,
      "outputs": [
        {
          "output_type": "stream",
          "text": [
            "Epoch: 1 \tBatch: 50/96141 \tLoss: 177.76740676292425\n",
            "Epoch: 2 \tBatch: 96100/96141 \tLoss: 152.87332345994457\n",
            "Epoch: 3 \tBatch: 96100/96141 \tLoss: 133.48517373835352\n",
            "Epoch: 4 \tBatch: 96100/96141 \tLoss: 122.98104313356272\n",
            "Epoch: 5 \tBatch: 96100/96141 \tLoss: 117.2566426211953\n",
            "Epoch: 6 \tBatch: 96100/96141 \tLoss: 112.97279295517684\n",
            "Epoch: 7 \tBatch: 96100/96141 \tLoss: 109.52457368012955\n",
            "Epoch: 8 \tBatch: 96100/96141 \tLoss: 106.63987367592102\n",
            "Epoch: 9 \tBatch: 96100/96141 \tLoss: 104.12809151900247\n",
            "Epoch: 10 \tBatch: 96100/96141 \tLoss: 101.93276277396208\n",
            "Epoch: 11 \tBatch: 96100/96141 \tLoss: 99.99024230016366\n",
            "Epoch: 12 \tBatch: 96100/96141 \tLoss: 98.30579146634021\n",
            "Epoch: 13 \tBatch: 96100/96141 \tLoss: 96.85819599826198\n",
            "Epoch: 14 \tBatch: 96100/96141 \tLoss: 95.60277932213847\n",
            "Epoch: 15 \tBatch: 96100/96141 \tLoss: 94.4982531963851\n",
            "Epoch: 16 \tBatch: 96100/96141 \tLoss: 93.51305087532857\n",
            "Epoch: 17 \tBatch: 96100/96141 \tLoss: 92.62718008772738\n",
            "Epoch: 18 \tBatch: 96100/96141 \tLoss: 91.82938195606005\n",
            "Epoch: 19 \tBatch: 96100/96141 \tLoss: 91.11222545893507\n",
            "Epoch: 20 \tBatch: 96100/96141 \tLoss: 90.46793798439523\n",
            "Epoch: 21 \tBatch: 96100/96141 \tLoss: 89.88722931454213\n",
            "Epoch: 22 \tBatch: 96100/96141 \tLoss: 89.36083794675807\n",
            "Epoch: 23 \tBatch: 96100/96141 \tLoss: 88.88049029211619\n",
            "Epoch: 24 \tBatch: 96100/96141 \tLoss: 88.43936330917548\n",
            "Epoch: 25 \tBatch: 96100/96141 \tLoss: 88.03292520142264\n",
            "Epoch: 26 \tBatch: 96100/96141 \tLoss: 87.65776193851777\n",
            "Epoch: 27 \tBatch: 96100/96141 \tLoss: 87.30961738176757\n",
            "Epoch: 28 \tBatch: 96100/96141 \tLoss: 86.98376729332455\n",
            "Epoch: 29 \tBatch: 96100/96141 \tLoss: 86.675704684499\n",
            "Epoch: 30 \tBatch: 96100/96141 \tLoss: 86.38220440881477\n",
            "Epoch: 31 \tBatch: 96100/96141 \tLoss: 86.1021769578767\n",
            "Epoch: 32 \tBatch: 96100/96141 \tLoss: 85.83527253864459\n",
            "Epoch: 33 \tBatch: 96100/96141 \tLoss: 85.58124590625765\n",
            "Epoch: 34 \tBatch: 96100/96141 \tLoss: 85.33962784585829\n",
            "Epoch: 35 \tBatch: 96100/96141 \tLoss: 85.10998066427449\n",
            "Epoch: 36 \tBatch: 96100/96141 \tLoss: 84.89229702799874\n",
            "Epoch: 37 \tBatch: 96100/96141 \tLoss: 84.68656177978453\n",
            "Epoch: 38 \tBatch: 96100/96141 \tLoss: 84.49256842112965\n",
            "Epoch: 39 \tBatch: 96100/96141 \tLoss: 84.30754739935313\n",
            "Epoch: 40 \tBatch: 96100/96141 \tLoss: 84.12963874704366\n",
            "Epoch: 41 \tBatch: 96100/96141 \tLoss: 83.95895816560346\n"
          ],
          "name": "stdout"
        }
      ]
    },
    {
      "metadata": {
        "id": "yzFWzKnDtyKr",
        "colab_type": "code",
        "colab": {
          "base_uri": "https://localhost:8080/",
          "height": 269
        },
        "outputId": "fd1821c9-39cc-4288-b75e-42fcdd7f382d"
      },
      "cell_type": "code",
      "source": [
        "plt.plot(loss_history)\n",
        "plt.ylabel('loss')\n",
        "plt.show()"
      ],
      "execution_count": 31,
      "outputs": [
        {
          "output_type": "display_data",
          "data": {
            "image/png": "[encoded data removed]",
            "text/plain": [
              "<Figure size 432x288 with 1 Axes>"
            ]
          },
          "metadata": {
            "tags": []
          }
        }
      ]
    },
    {
      "metadata": {
        "id": "7sxy89fbtRDV",
        "colab_type": "code",
        "colab": {
          "base_uri": "https://localhost:8080/",
          "height": 289
        },
        "outputId": "e6912cd9-473e-4539-dd99-546917166279"
      },
      "cell_type": "code",
      "source": [
        "print(\"Generated text:\")\n",
        "print(sampling(parameters, h_init, 500, index_to_char))"
      ],
      "execution_count": 32,
      "outputs": [
        {
          "output_type": "stream",
          "text": [
            "Generated text:\n",
            "ils\n",
            "know chald mine eye\n",
            "that cal the time alose.\n",
            "\n",
            "\n",
            "whose if that verile i do my that shaus: ill.\n",
            "thy one'd fyemer.\n",
            "tin have and my bedvegh with the sub'd privaging flomerst where\n",
            "from thou the trows and i new liother thou roslive might praies if my own now livest deprace,\n",
            "no leve enerpur do ith'd' faite the prause, breage?\n",
            "on the crecount,\n",
            "who, what the bailing drane to pearifed's soof, the weatire\n",
            "for preasorn that my seeatume,\n",
            "the eols the getuld thou west to whill when blace,\n",
            "by serle the wil\n"
          ],
          "name": "stdout"
        }
      ]
    }
  ]
}